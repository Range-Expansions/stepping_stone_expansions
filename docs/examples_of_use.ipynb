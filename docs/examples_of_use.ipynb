{
 "cells": [
  {
   "cell_type": "code",
   "execution_count": 1,
   "metadata": {
    "collapsed": false
   },
   "outputs": [
    {
     "name": "stdout",
     "output_type": "stream",
     "text": [
      "Populating the interactive namespace from numpy and matplotlib\n"
     ]
    }
   ],
   "source": [
    "%pylab inline"
   ]
  },
  {
   "cell_type": "code",
   "execution_count": 2,
   "metadata": {
    "collapsed": true
   },
   "outputs": [],
   "source": [
    "import seaborn as sns\n",
    "sns.set_context('poster', font_scale=1.25)"
   ]
  },
  {
   "cell_type": "markdown",
   "metadata": {},
   "source": [
    "# A single deme (well-mixed test tube)"
   ]
  },
  {
   "cell_type": "code",
   "execution_count": null,
   "metadata": {
    "collapsed": true
   },
   "outputs": [],
   "source": [
    "num_individuals=500\n",
    "numAlleles = num_individuals\n",
    "numGenerations = 100\n",
    "\n",
    "ind_list = np.array([re.Individual(i) for i in np.random.randint(low=0, high=numAlleles, size=num_individuals)])\n",
    "d = re.Deme(numAlleles, ind_list, 0)\n",
    "\n",
    "frac_gen, history = re.simulate_deme(d, numGenerations)\n",
    "\n",
    "# Checking that the allele frequency is what is predicted\n",
    "\n",
    "print 'Allele frequency is correct:' , d.check_allele_frequency()\n",
    "\n",
    "plt.plot(frac_gen, history)"
   ]
  }
 ],
 "metadata": {
  "kernelspec": {
   "display_name": "Python 2",
   "language": "python",
   "name": "python2"
  },
  "language_info": {
   "codemirror_mode": {
    "name": "ipython",
    "version": 2
   },
   "file_extension": ".py",
   "mimetype": "text/x-python",
   "name": "python",
   "nbconvert_exporter": "python",
   "pygments_lexer": "ipython2",
   "version": "2.7.10"
  }
 },
 "nbformat": 4,
 "nbformat_minor": 0
}
