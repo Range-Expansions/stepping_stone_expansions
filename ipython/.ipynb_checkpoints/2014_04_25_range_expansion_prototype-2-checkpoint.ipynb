{
 "metadata": {
  "name": "",
  "signature": "sha256:2354cd6477558bd5fa0561608c37ad0d53b9c5c6cea7f095eab8f2c1ebe4c668"
 },
 "nbformat": 3,
 "nbformat_minor": 0,
 "worksheets": [
  {
   "cells": [
    {
     "cell_type": "code",
     "collapsed": false,
     "input": [
      "%reset"
     ],
     "language": "python",
     "metadata": {},
     "outputs": [
      {
       "name": "stdout",
       "output_type": "stream",
       "stream": "stdout",
       "text": [
        "Once deleted, variables cannot be recovered. Proceed (y/[n])? y\n"
       ]
      }
     ],
     "prompt_number": 60
    },
    {
     "cell_type": "code",
     "collapsed": false,
     "input": [
      "%pylab inline"
     ],
     "language": "python",
     "metadata": {},
     "outputs": [
      {
       "output_type": "stream",
       "stream": "stdout",
       "text": [
        "Populating the interactive namespace from numpy and matplotlib\n"
       ]
      }
     ],
     "prompt_number": 61
    },
    {
     "cell_type": "code",
     "collapsed": false,
     "input": [
      "%load_ext cythonmagic"
     ],
     "language": "python",
     "metadata": {},
     "outputs": [
      {
       "output_type": "stream",
       "stream": "stdout",
       "text": [
        "The cythonmagic extension is already loaded. To reload it, use:\n",
        "  %reload_ext cythonmagic\n"
       ]
      }
     ],
     "prompt_number": 62
    },
    {
     "cell_type": "code",
     "collapsed": false,
     "input": [
      "import numpy as np\n",
      "import pandas as pd"
     ],
     "language": "python",
     "metadata": {},
     "outputs": [],
     "prompt_number": 63
    },
    {
     "cell_type": "code",
     "collapsed": false,
     "input": [
      "import seaborn as sns"
     ],
     "language": "python",
     "metadata": {},
     "outputs": [],
     "prompt_number": 64
    },
    {
     "cell_type": "code",
     "collapsed": false,
     "input": [
      "import numpy as np\n",
      "\n",
      "class Deme():\n",
      "\n",
      "    def __init__(self, num_alleles, members=None):\n",
      "        self.members = members\n",
      "        self.num_alleles = num_alleles\n",
      "        self.binned_alleles = self.bin_alleles()\n",
      "    \n",
      "    def reproduce(self):\n",
      "        numMembers = len(self.members)\n",
      "        to_reproduce = np.random.randint(low=0, high=numMembers)\n",
      "        to_die = np.random.randint(low=0, high=numMembers)\n",
      "        # Update allele array\n",
      "        self.binned_alleles[self.members[to_die].allele_id] -= 1\n",
      "        self.binned_alleles[self.members[to_reproduce].allele_id] += 1        \n",
      "        # Update the members        \n",
      "        self.members[to_die] = self.members[to_reproduce]\n",
      "    \n",
      "    def get_alleles(self):\n",
      "        return [individual.allele_id for individual in self.members]\n",
      "    \n",
      "    def bin_alleles(self):\n",
      "        return np.bincount(self.get_alleles(), minlength=self.num_alleles)"
     ],
     "language": "python",
     "metadata": {},
     "outputs": [],
     "prompt_number": 65
    },
    {
     "cell_type": "code",
     "collapsed": false,
     "input": [
      "class Individual():\n",
      "    def __init__(self, allele_id):\n",
      "        self.allele_id = allele_id"
     ],
     "language": "python",
     "metadata": {},
     "outputs": [],
     "prompt_number": 66
    },
    {
     "cell_type": "markdown",
     "metadata": {},
     "source": [
      "Let us make a plot of how the alleles change vs. time"
     ]
    },
    {
     "cell_type": "code",
     "collapsed": false,
     "input": [
      "def simulate_deme(deme, numAlleles, numIterations=100):\n",
      "    history = np.empty((numIterations, numAlleles))\n",
      "    for i in range(numIterations):\n",
      "        history[i, :] = deme.binned_alleles\n",
      "        deme.reproduce()\n",
      "    return history"
     ],
     "language": "python",
     "metadata": {},
     "outputs": [],
     "prompt_number": 67
    },
    {
     "cell_type": "code",
     "collapsed": false,
     "input": [
      "num_individuals=200\n",
      "numAlleles = 2\n",
      "numIterations = 10**5\n",
      "\n",
      "ind_list = [Individual(i) for i in np.random.randint(low=0, high=numAlleles, size=num_individuals)]\n",
      "d = Deme(numAlleles, ind_list)\n",
      "\n",
      "%prun history = simulate_deme(d, numAlleles, numIterations)\n",
      "plot(history);"
     ],
     "language": "python",
     "metadata": {},
     "outputs": [
      {
       "output_type": "stream",
       "stream": "stdout",
       "text": [
        " "
       ]
      },
      {
       "metadata": {},
       "output_type": "display_data",
       "png": "[encoded data removed]",
       "text": [
        "<matplotlib.figure.Figure at 0x7ff3114bbd10>"
       ]
      }
     ],
     "prompt_number": 89
    },
    {
     "cell_type": "markdown",
     "metadata": {},
     "source": [
      "This is certainly faster; great. Let us attempt to speed it up further, perhaps by using cython."
     ]
    },
    {
     "cell_type": "markdown",
     "metadata": {},
     "source": [
      "Are the number of individuals constant?"
     ]
    },
    {
     "cell_type": "code",
     "collapsed": false,
     "input": [
      "plot(np.sum(history, axis=1))"
     ],
     "language": "python",
     "metadata": {},
     "outputs": [
      {
       "metadata": {},
       "output_type": "pyout",
       "prompt_number": 78,
       "text": [
        "[<matplotlib.lines.Line2D at 0x7ff311507c10>]"
       ]
      },
      {
       "metadata": {},
       "output_type": "display_data",
       "png": "[encoded data removed]",
       "text": [
        "<matplotlib.figure.Figure at 0x7ff312fbb5d0>"
       ]
      }
     ],
     "prompt_number": 78
    },
    {
     "cell_type": "markdown",
     "metadata": {},
     "source": [
      "Yep, everything is fine!\n",
      "\n",
      "Let us make sure that it works even after things have become fixed."
     ]
    },
    {
     "cell_type": "code",
     "collapsed": false,
     "input": [
      "plot(simulate_deme(d, numAlleles, 100))"
     ],
     "language": "python",
     "metadata": {},
     "outputs": [
      {
       "metadata": {},
       "output_type": "pyout",
       "prompt_number": 80,
       "text": [
        "[<matplotlib.lines.Line2D at 0x7ff3114b1190>,\n",
        " <matplotlib.lines.Line2D at 0x7ff3114b1750>]"
       ]
      },
      {
       "metadata": {},
       "output_type": "display_data",
       "png": "[encoded data removed]",
       "text": [
        "<matplotlib.figure.Figure at 0x7ff3114ba9d0>"
       ]
      }
     ],
     "prompt_number": 80
    },
    {
     "cell_type": "markdown",
     "metadata": {},
     "source": [
      "Yep, it works! This is a good start. Great. The moran process is finished. We now just neeed to deal with the geometry and such, i.e. the underlying lattice."
     ]
    }
   ],
   "metadata": {}
  }
 ]
}