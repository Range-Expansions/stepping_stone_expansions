{
 "metadata": {
  "name": "",
  "signature": "sha256:8fb5cbff07b36d08ee87b814b0491f994e37f232a6cc91ea0e1efb24584e9826"
 },
 "nbformat": 3,
 "nbformat_minor": 0,
 "worksheets": [
  {
   "cells": [
    {
     "cell_type": "code",
     "collapsed": false,
     "input": [
      "%reset"
     ],
     "language": "python",
     "metadata": {},
     "outputs": [
      {
       "name": "stdout",
       "output_type": "stream",
       "stream": "stdout",
       "text": [
        "Once deleted, variables cannot be recovered. Proceed (y/[n])? y\n"
       ]
      }
     ],
     "prompt_number": 1
    },
    {
     "cell_type": "code",
     "collapsed": false,
     "input": [
      "%pylab inline"
     ],
     "language": "python",
     "metadata": {},
     "outputs": [
      {
       "output_type": "stream",
       "stream": "stdout",
       "text": [
        "Populating the interactive namespace from numpy and matplotlib\n"
       ]
      },
      {
       "output_type": "stream",
       "stream": "stderr",
       "text": [
        "/usr/local/lib/python2.7/dist-packages/matplotlib/__init__.py:740: UserWarning: Found matplotlib configuration in ~/.matplotlib/. To conform with the XDG base directory standard, this configuration location has been deprecated on Linux, and the new location is now '/home/bryan/.config'/matplotlib/. Please move your configuration there to ensure that matplotlib will continue to find it in the future.\n",
        "  _get_xdg_config_dir())\n"
       ]
      }
     ],
     "prompt_number": 2
    },
    {
     "cell_type": "code",
     "collapsed": false,
     "input": [
      "import seaborn as sns"
     ],
     "language": "python",
     "metadata": {},
     "outputs": [],
     "prompt_number": 3
    },
    {
     "cell_type": "code",
     "collapsed": false,
     "input": [
      "import range_expansions as re"
     ],
     "language": "python",
     "metadata": {},
     "outputs": [],
     "prompt_number": 4
    },
    {
     "cell_type": "code",
     "collapsed": false,
     "input": [
      "reload(re)"
     ],
     "language": "python",
     "metadata": {},
     "outputs": [
      {
       "metadata": {},
       "output_type": "pyout",
       "prompt_number": 5,
       "text": [
        "<module 'range_expansions' from '/usr/local/lib/python2.7/dist-packages/range_expansions.so'>"
       ]
      }
     ],
     "prompt_number": 5
    },
    {
     "cell_type": "code",
     "collapsed": false,
     "input": [
      "__author__ = 'bryan'\n",
      "\n",
      "import numpy as np\n",
      "import matplotlib\n",
      "import matplotlib.pyplot as plt\n",
      "import range_expansions as re\n",
      "import seaborn as sns\n",
      "\n",
      "num_individuals= 500\n",
      "numAlleles = num_individuals\n",
      "numGenerations = 100\n",
      "m = num_individuals/10\n",
      "\n",
      "numDemes = 2\n",
      "demeList = []\n",
      "\n",
      "for i in range(numDemes):\n",
      "    ind_list = np.array([re.Individual(i) for i in np.random.randint(low=0, high=numAlleles, size=num_individuals)])\n",
      "    d = re.Deme(numAlleles, ind_list, m)\n",
      "    demeList.append(d)\n",
      "\n",
      "# Now try to create a simulation\n",
      "# We assume m is the same for each deme\n",
      "# We also assume that each deme has the same population\n",
      "# We also assume that there is a known finite number of alleles at the start\n",
      "num_members = demeList[0].num_members\n",
      "num_alleles = demeList[0].num_alleles\n",
      "m_swap = demeList[0].m_swap\n",
      "\n",
      "num_iterations = numGenerations * num_members + 1\n",
      "fractional_generation = np.empty(num_iterations, dtype=np.float)\n",
      "history = np.empty((numDemes, num_iterations, num_alleles), dtype=np.long)\n",
      "\n",
      "# On each swap, you swap one with both of your neighbors\n",
      "# The generation time is set by the number of members\n",
      "swap_every = 2*num_members / (m_swap)\n",
      "\n",
      "iterations = np.arange(num_iterations)"
     ],
     "language": "python",
     "metadata": {},
     "outputs": [],
     "prompt_number": 9
    },
    {
     "cell_type": "code",
     "collapsed": false,
     "input": [
      "# Create the desired network structure"
     ],
     "language": "python",
     "metadata": {},
     "outputs": [],
     "prompt_number": 11
    },
    {
     "cell_type": "code",
     "collapsed": false,
     "input": [
      "for i in iterations:\n",
      "    fractional_generation[i] = float(i)/num_members\n",
      "    for d_num in range(numDemes):\n",
      "        history[d_num, i, :] = demeList[d_num].binned_alleles\n",
      "        demeList[d_num].reproduce()\n",
      "    if np.mod(i + 1, swap_every) == 0:\n",
      "        # Swap between all the neighbors, ideally utilizing some sort of\n",
      "        # network structure\n",
      "        for d_num in demeList:\n",
      "            pass"
     ],
     "language": "python",
     "metadata": {},
     "outputs": []
    },
    {
     "cell_type": "markdown",
     "metadata": {},
     "source": [
      "# Creating a Lattice"
     ]
    },
    {
     "cell_type": "code",
     "collapsed": false,
     "input": [
      "import graph_tool.all as gt"
     ],
     "language": "python",
     "metadata": {},
     "outputs": [],
     "prompt_number": 12
    },
    {
     "cell_type": "code",
     "collapsed": false,
     "input": [
      "g = gt.Graph()"
     ],
     "language": "python",
     "metadata": {},
     "outputs": [],
     "prompt_number": 13
    },
    {
     "cell_type": "code",
     "collapsed": false,
     "input": [
      "potato = g.new_vertex_property(\"object\")"
     ],
     "language": "python",
     "metadata": {},
     "outputs": [],
     "prompt_number": 14
    },
    {
     "cell_type": "code",
     "collapsed": false,
     "input": [
      "gt.vertex_hist()"
     ],
     "language": "python",
     "metadata": {},
     "outputs": [
      {
       "metadata": {},
       "output_type": "pyout",
       "prompt_number": 25,
       "text": [
        "2"
       ]
      }
     ],
     "prompt_number": 25
    },
    {
     "cell_type": "code",
     "collapsed": false,
     "input": [
      "potato.a"
     ],
     "language": "python",
     "metadata": {},
     "outputs": [],
     "prompt_number": 22
    },
    {
     "cell_type": "code",
     "collapsed": false,
     "input": [],
     "language": "python",
     "metadata": {},
     "outputs": []
    }
   ],
   "metadata": {}
  }
 ]
}